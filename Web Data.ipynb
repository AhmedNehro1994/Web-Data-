{
 "cells": [
  {
   "cell_type": "markdown",
   "metadata": {
    "id": "xY6AQ3Tl3TcY"
   },
   "source": [
    "# Web Data\n",
    " \n",
    "Visitor-interests \n",
    "\n",
    "Using user_agents library \n",
    "extract Browser ,  OS ,  Device data from 'UserAgent' column \n",
    "\n",
    "use it to create new columns for Browser, OS, Device\n",
    "\n",
    "to detemine the accessibility of the site\n",
    "\n",
    "for Visitor-interests"
   ]
  },
  {
   "cell_type": "code",
   "execution_count": null,
   "metadata": {
    "id": "uWhiotp13Tca"
   },
   "outputs": [],
   "source": [
    "import numpy as np\n",
    "import pandas as pd\n",
    "import matplotlib.pyplot as plt\n",
    "import seaborn as sns\n",
    "import user_agents\n",
    "from ip2geotools.databases.noncommercial import DbIpCity as ip\n",
    "import warnings\n",
    "warnings.filterwarnings('ignore')\n",
    "%matplotlib inline\n",
    "sns.set(rc={'figure.figsize':(10, 10)}, font_scale=1.2)"
   ]
  },
  {
   "cell_type": "code",
   "execution_count": 134,
   "metadata": {},
   "outputs": [],
   "source": [
    "df = pd.read_csv('visitor-interests.csv')"
   ]
  },
  {
   "cell_type": "code",
   "execution_count": 135,
   "metadata": {},
   "outputs": [
    {
     "data": {
      "text/html": [
       "<div>\n",
       "<style scoped>\n",
       "    .dataframe tbody tr th:only-of-type {\n",
       "        vertical-align: middle;\n",
       "    }\n",
       "\n",
       "    .dataframe tbody tr th {\n",
       "        vertical-align: top;\n",
       "    }\n",
       "\n",
       "    .dataframe thead th {\n",
       "        text-align: right;\n",
       "    }\n",
       "</style>\n",
       "<table border=\"1\" class=\"dataframe\">\n",
       "  <thead>\n",
       "    <tr style=\"text-align: right;\">\n",
       "      <th></th>\n",
       "      <th>IP</th>\n",
       "      <th>UserAgent</th>\n",
       "      <th>Country</th>\n",
       "      <th>Languages</th>\n",
       "      <th>Interests</th>\n",
       "    </tr>\n",
       "  </thead>\n",
       "  <tbody>\n",
       "    <tr>\n",
       "      <th>0</th>\n",
       "      <td>1.10.195.126</td>\n",
       "      <td>Mozilla/5.0 (Windows NT 6.1; Win64; x64) Apple...</td>\n",
       "      <td>TH</td>\n",
       "      <td>english</td>\n",
       "      <td>other</td>\n",
       "    </tr>\n",
       "    <tr>\n",
       "      <th>1</th>\n",
       "      <td>1.1.217.211</td>\n",
       "      <td>Mozilla/5.0 (Windows NT 10.0; Win64; x64) Appl...</td>\n",
       "      <td>TH</td>\n",
       "      <td>thai</td>\n",
       "      <td>blog/personal homepage</td>\n",
       "    </tr>\n",
       "    <tr>\n",
       "      <th>2</th>\n",
       "      <td>1.115.198.107</td>\n",
       "      <td>Mozilla/5.0 (Windows NT 6.1) AppleWebKit/537.3...</td>\n",
       "      <td>JP</td>\n",
       "      <td>english</td>\n",
       "      <td>shop/online shopping website</td>\n",
       "    </tr>\n",
       "    <tr>\n",
       "      <th>3</th>\n",
       "      <td>1.121.152.143</td>\n",
       "      <td>Mozilla/5.0 (Linux; Android 7.0; Nexus 9 Build...</td>\n",
       "      <td>AU</td>\n",
       "      <td>english</td>\n",
       "      <td>company</td>\n",
       "    </tr>\n",
       "    <tr>\n",
       "      <th>4</th>\n",
       "      <td>1.123.135.213</td>\n",
       "      <td>Mozilla/5.0 (iPad; CPU OS 9_3_5 like Mac OS X)...</td>\n",
       "      <td>AU</td>\n",
       "      <td>english</td>\n",
       "      <td>company</td>\n",
       "    </tr>\n",
       "  </tbody>\n",
       "</table>\n",
       "</div>"
      ],
      "text/plain": [
       "              IP                                          UserAgent Country  \\\n",
       "0   1.10.195.126  Mozilla/5.0 (Windows NT 6.1; Win64; x64) Apple...      TH   \n",
       "1    1.1.217.211  Mozilla/5.0 (Windows NT 10.0; Win64; x64) Appl...      TH   \n",
       "2  1.115.198.107  Mozilla/5.0 (Windows NT 6.1) AppleWebKit/537.3...      JP   \n",
       "3  1.121.152.143  Mozilla/5.0 (Linux; Android 7.0; Nexus 9 Build...      AU   \n",
       "4  1.123.135.213  Mozilla/5.0 (iPad; CPU OS 9_3_5 like Mac OS X)...      AU   \n",
       "\n",
       "  Languages                     Interests  \n",
       "0   english                         other  \n",
       "1      thai        blog/personal homepage  \n",
       "2   english  shop/online shopping website  \n",
       "3   english                       company  \n",
       "4   english                       company  "
      ]
     },
     "execution_count": 135,
     "metadata": {},
     "output_type": "execute_result"
    }
   ],
   "source": [
    "df.head()"
   ]
  },
  {
   "cell_type": "code",
   "execution_count": 136,
   "metadata": {},
   "outputs": [],
   "source": [
    "def get_Browser(ua):\n",
    "    respons=user_agents.parse(ua)\n",
    "    return respons.browser.family "
   ]
  },
  {
   "cell_type": "code",
   "execution_count": 137,
   "metadata": {},
   "outputs": [],
   "source": [
    "df['browser'] = df['UserAgent'].apply(get_Browser)"
   ]
  },
  {
   "cell_type": "code",
   "execution_count": 169,
   "metadata": {},
   "outputs": [
    {
     "data": {
      "text/plain": [
       "Chrome              6744\n",
       "Firefox             2821\n",
       "Mobile Safari       1894\n",
       "Chrome Mobile       1757\n",
       "IE                  1492\n",
       "                    ... \n",
       "RockMelt               1\n",
       "PhantomJS              1\n",
       "Bon Echo               1\n",
       "AppEngine-Google       1\n",
       "K-Meleon               1\n",
       "Name: browser, Length: 83, dtype: int64"
      ]
     },
     "execution_count": 169,
     "metadata": {},
     "output_type": "execute_result"
    }
   ],
   "source": [
    "df['browser'].value_counts()"
   ]
  },
  {
   "cell_type": "markdown",
   "metadata": {},
   "source": [
    " "
   ]
  },
  {
   "cell_type": "markdown",
   "metadata": {},
   "source": [
    " "
   ]
  },
  {
   "cell_type": "code",
   "execution_count": 139,
   "metadata": {},
   "outputs": [],
   "source": [
    "def get_Os(ua):\n",
    "    respons=user_agents.parse(ua)\n",
    "    return respons.os.family"
   ]
  },
  {
   "cell_type": "code",
   "execution_count": 140,
   "metadata": {},
   "outputs": [],
   "source": [
    "df['OS'] = df['UserAgent'].apply(get_Os)"
   ]
  },
  {
   "cell_type": "code",
   "execution_count": 168,
   "metadata": {},
   "outputs": [
    {
     "data": {
      "text/plain": [
       "Windows                 11231\n",
       "Android                  4116\n",
       "iOS                      2351\n",
       "Mac OS X                 1205\n",
       "Other                     394\n",
       "Linux                     266\n",
       "Ubuntu                    144\n",
       "Chrome OS                  70\n",
       "Windows Phone              59\n",
       "BlackBerry OS              48\n",
       "Symbian OS                 10\n",
       "Tizen                       6\n",
       "MeeGo                       4\n",
       "BlackBerry Tablet OS        3\n",
       "SUSE                        2\n",
       "Symbian^3                   2\n",
       "FreeBSD                     2\n",
       "Gentoo                      2\n",
       "Firefox OS                  2\n",
       "Fedora                      2\n",
       "Bada                        2\n",
       "VRE                         2\n",
       "Mandriva                    1\n",
       "Debian                      1\n",
       "Solaris                     1\n",
       "Name: OS, dtype: int64"
      ]
     },
     "execution_count": 168,
     "metadata": {},
     "output_type": "execute_result"
    }
   ],
   "source": [
    "df['OS'].value_counts()"
   ]
  },
  {
   "cell_type": "markdown",
   "metadata": {},
   "source": [
    " "
   ]
  },
  {
   "cell_type": "markdown",
   "metadata": {},
   "source": [
    " "
   ]
  },
  {
   "cell_type": "code",
   "execution_count": 142,
   "metadata": {},
   "outputs": [],
   "source": [
    "def get_Device(ua):\n",
    "    respons=user_agents.parse(ua)\n",
    "    return respons.device.family"
   ]
  },
  {
   "cell_type": "code",
   "execution_count": 143,
   "metadata": {},
   "outputs": [],
   "source": [
    "df['Device'] = df['UserAgent'].apply(get_Device)"
   ]
  },
  {
   "cell_type": "code",
   "execution_count": 167,
   "metadata": {},
   "outputs": [
    {
     "data": {
      "text/plain": [
       "Other                 11728\n",
       "iPhone                 1726\n",
       "Mac                    1204\n",
       "iPad                    614\n",
       "Generic Smartphone      363\n",
       "                      ...  \n",
       "TECNO_N9                  1\n",
       "Lumia 735                 1\n",
       "Sony Xperia Z3            1\n",
       "SO-04E                    1\n",
       "D2202                     1\n",
       "Name: Device, Length: 1601, dtype: int64"
      ]
     },
     "execution_count": 167,
     "metadata": {},
     "output_type": "execute_result"
    }
   ],
   "source": [
    "df['Device'].value_counts()"
   ]
  },
  {
   "cell_type": "markdown",
   "metadata": {},
   "source": [
    " "
   ]
  },
  {
   "cell_type": "markdown",
   "metadata": {},
   "source": [
    " "
   ]
  },
  {
   "cell_type": "markdown",
   "metadata": {},
   "source": [
    "Using DbIpCity , extract City , Country  from 'IP' column "
   ]
  },
  {
   "cell_type": "code",
   "execution_count": 147,
   "metadata": {},
   "outputs": [],
   "source": [
    "from ip2geotools.databases.noncommercial import DbIpCity as ip"
   ]
  },
  {
   "cell_type": "markdown",
   "metadata": {},
   "source": [
    " "
   ]
  },
  {
   "cell_type": "code",
   "execution_count": null,
   "metadata": {},
   "outputs": [],
   "source": [
    "def get_region(ua):\n",
    "    result = ip.get(ua ,api_key = 'free')\n",
    "    return result.region"
   ]
  },
  {
   "cell_type": "code",
   "execution_count": null,
   "metadata": {},
   "outputs": [],
   "source": [
    "df['Region']=df['IP'].apply(get_region)"
   ]
  },
  {
   "cell_type": "code",
   "execution_count": null,
   "metadata": {},
   "outputs": [],
   "source": [
    "df['Region'].head(10)"
   ]
  },
  {
   "cell_type": "markdown",
   "metadata": {},
   "source": [
    " "
   ]
  },
  {
   "cell_type": "code",
   "execution_count": null,
   "metadata": {},
   "outputs": [],
   "source": [
    "def get_city(ua):\n",
    "    result = ip.get(ua ,api_key = 'free')\n",
    "    return result.city"
   ]
  },
  {
   "cell_type": "code",
   "execution_count": null,
   "metadata": {},
   "outputs": [],
   "source": [
    "df['City']=df['IP'].apply(get_city)"
   ]
  },
  {
   "cell_type": "code",
   "execution_count": null,
   "metadata": {},
   "outputs": [],
   "source": [
    "df['City'].head(10)"
   ]
  }
 ],
 "metadata": {
  "colab": {
   "collapsed_sections": [],
   "name": "Task_4_(Web_Data)_Template.ipynb",
   "provenance": []
  },
  "kernelspec": {
   "display_name": "Python 3",
   "language": "python",
   "name": "python3"
  }
 },
 "nbformat": 4,
 "nbformat_minor": 1
}
